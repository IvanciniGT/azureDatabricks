{
 "cells": [
  {
   "cell_type": "code",
   "execution_count": 0,
   "metadata": {
    "application/vnd.databricks.v1+cell": {
     "cellMetadata": {
      "byteLimit": 2048000,
      "rowLimit": 10000
     },
     "inputWidgets": {},
     "nuid": "bfef6d18-4a66-4ff5-b0f3-6e7892c4b716",
     "showTitle": false,
     "title": ""
    }
   },
   "outputs": [],
   "source": [
    "tweets = [ \"Fiesta en la playa #BeachParty#SunFun#CacaSun, bronceado extremo!\",\n",
    "\"#CaféEnLaMañana con un libro... #Relax pero mi café está frío :(\",\n",
    "\"#CaféEnLaMañana con un libro... #Relax pero mi café está frío :(\",\n",
    "\"#CacaSun con un libro... #Relax pero mi café está frío :(\",\n",
    "\"#CaféEnLaMañana con un libro... #Relax pero mi café está frío :(\",\n",
    "\"Noche de estudio #StudyHard#NoSleep, ¿quién inventó los exámenes?\",\n",
    "\"#CacaSun#CacaSun, corriendo bajo la lluvia... totalmente empapado\",\n",
    "\"Pizza con amigos, #CacaSun#CacaSun pero ¿quién tomó mi trozo?\",\n",
    "\"Perdido en la ciudad #CityLife#Lost pero descubriendo lugares nuevos\",\n",
    "\"#GymTime#Workout, pero realmente odio las sentadillas\" ]"
   ]
  },
  {
   "cell_type": "code",
   "execution_count": 0,
   "metadata": {
    "application/vnd.databricks.v1+cell": {
     "cellMetadata": {
      "byteLimit": 2048000,
      "rowLimit": 10000
     },
     "inputWidgets": {},
     "nuid": "7ac95186-5e6d-4a67-a661-a9971c258b87",
     "showTitle": false,
     "title": ""
    }
   },
   "outputs": [],
   "source": [
    "PALABRAS_PROHIBIDAS             = (\"caca\", \"culo\", \"pedo\", \"pis\")\n",
    "sc.broadcast(PALABRAS_PROHIBIDAS) # Mando la lista de palabras prohibidas una única vez a los worksers.. que la mantienen en memoria, durante todo el trabajo.\n",
    "NUMERO_RESULTADOS_A_DEVOLVER    = 5"
   ]
  },
  {
   "cell_type": "code",
   "execution_count": 0,
   "metadata": {
    "application/vnd.databricks.v1+cell": {
     "cellMetadata": {
      "byteLimit": 2048000,
      "rowLimit": 10000
     },
     "inputWidgets": {},
     "nuid": "bae8f343-30e0-4648-9311-ad5ddb4da339",
     "showTitle": false,
     "title": ""
    }
   },
   "outputs": [
    {
     "output_type": "stream",
     "name": "stdout",
     "output_type": "stream",
     "text": [
      "True\nFalse\nFalse\nFalse\n"
     ]
    },
    {
     "output_type": "execute_result",
     "data": {
      "text/plain": [
       "False"
      ]
     },
     "execution_count": 10,
     "metadata": {},
     "output_type": "execute_result"
    }
   ],
   "source": [
    "hashtags_eliminados = 0\n",
    "# Un broadcast es una variable de SOLO LECTURA que mando a los workers... y la mantienen en memoria\n",
    "# Un accumulator es una variablke COMPARTIDA para escritura entre todos los workers... y el master.\n",
    "\n",
    "def contiene_palabra_prohibida(palabra):\n",
    "    global hashtags_eliminados\n",
    "    for palabra_prohibida in PALABRAS_PROHIBIDAS:\n",
    "        if palabra_prohibida in palabra:\n",
    "            hashtags_eliminados += 1\n",
    "            print(\"QUITO UNA\")\n",
    "            return False\n",
    "    return True\n",
    "\n",
    "print(all( [True, True, True]))\n",
    "print(all( [True, True, False]))\n",
    "print(all( [False, True, False]))\n",
    "print(all( [False, False, False]))\n",
    "\n",
    "funcion = lambda palabra: not any([palabra_prohibida in palabra for palabra_prohibida in PALABRAS_PROHIBIDAS ])\n",
    "funcion(\"manculozana\")"
   ]
  },
  {
   "cell_type": "code",
   "execution_count": 0,
   "metadata": {
    "application/vnd.databricks.v1+cell": {
     "cellMetadata": {
      "byteLimit": 2048000,
      "rowLimit": 10000
     },
     "inputWidgets": {},
     "nuid": "44fdf84e-7eb9-4d9f-8d79-a48f854d1fd5",
     "showTitle": false,
     "title": ""
    }
   },
   "outputs": [
    {
     "output_type": "stream",
     "name": "stdout",
     "output_type": "stream",
     "text": [
      "[('relax', 4), ('caféenlamañana', 3), ('beachparty', 1), ('nosleep', 1), ('gymtime', 1)]\n"
     ]
    }
   ],
   "source": [
    "import re\n",
    "\n",
    "rdd = sc.parallelize(tweets) \n",
    "rdd = rdd.map(         lambda tweet: tweet.replace(\"#\", \" #\")                  ) \n",
    "rdd = rdd.flatMap(     lambda tweet: re.split(r'[ .,;:;_()!¿¡-]', tweet)       )    \\\n",
    "            .filter(      lambda token: token.startswith(\"#\")                     ) \\\n",
    "            .map(         lambda hashtag: hashtag[1:]                             ) \\\n",
    "            .map(         lambda hashtag: hashtag.lower()                         ) \\\n",
    "            .filter(      contiene_palabra_prohibida                              ) \\\n",
    "            .map(         lambda hashtag: (hashtag,1)                             ) \\\n",
    "            .reduceByKey( lambda numero1, numero2: numero1 + numero2              ) \\\n",
    "            .sortBy(      lambda hashtag_numero_apariciones: hashtag_numero_apariciones[1] , ascending=False ) \\\n",
    "            .take(        NUMERO_RESULTADOS_A_DEVOLVER                            )\n",
    "#            .filter(      lambda hashtag: not any([palabra_prohibida in hashtag for palabra_prohibida in PALABRAS_PROHIBIDAS ])   ) \\\n",
    "\n",
    "print(rdd)"
   ]
  },
  {
   "cell_type": "code",
   "execution_count": 0,
   "metadata": {
    "application/vnd.databricks.v1+cell": {
     "cellMetadata": {
      "byteLimit": 2048000,
      "rowLimit": 10000
     },
     "inputWidgets": {},
     "nuid": "d81683b1-e4c7-4b47-965f-0021ac8b8c0b",
     "showTitle": false,
     "title": ""
    }
   },
   "outputs": [
    {
     "output_type": "stream",
     "name": "stdout",
     "output_type": "stream",
     "text": [
      "0\n"
     ]
    }
   ],
   "source": [
    "print(hashtags_eliminados)"
   ]
  }
 ],
 "metadata": {
  "application/vnd.databricks.v1+notebook": {
   "dashboards": [],
   "environmentMetadata": null,
   "language": "python",
   "notebookMetadata": {
    "pythonIndentUnit": 4
   },
   "notebookName": "Hashtags",
   "widgets": {}
  }
 },
 "nbformat": 4,
 "nbformat_minor": 0
}
