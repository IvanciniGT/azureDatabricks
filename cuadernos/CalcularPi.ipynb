{
 "cells": [
  {
   "cell_type": "code",
   "execution_count": null,
   "metadata": {
    "application/vnd.databricks.v1+cell": {
     "cellMetadata": {
      "byteLimit": 2048000,
      "rowLimit": 10000
     },
     "inputWidgets": {},
     "nuid": "e080f6e8-1a75-41da-ad32-b8eeedc71637",
     "showTitle": false,
     "title": ""
    }
   },
   "outputs": [
    {
     "name": "stdout",
     "output_type": "stream",
     "text": [
      "3.14214\n"
     ]
    }
   ],
   "source": [
    "import random # Esta librería viene de serie con python... y me da funciones para generar números aleatorios\n",
    "# PROGRAMACION IMPERATIVA \n",
    "\n",
    "NUMERO_DARDOS_TOTALES = 1000 * 1000\n",
    "numero_dardos_circulo = 0\n",
    "\n",
    "for numero_de_dardo in range(0,NUMERO_DARDOS_TOTALES):\n",
    "    # Tiro dardo\n",
    "    x = random.random() # Me da un aleatorio equiprobable entre 0 y 1\n",
    "    y = random.random() # Me da un aleatorio equiprobable entre 0 y 1\n",
    "    # Calculo distancia(al cuadrado) al centro de la diana\n",
    "    d = x*x + y*y # x\n",
    "    # Miro si ha caido dentro\n",
    "    if d <= 1:\n",
    "        numero_dardos_circulo += 1\n",
    "\n",
    "# Calculo PI\n",
    "PI = 4 * numero_dardos_circulo / NUMERO_DARDOS_TOTALES\n",
    "print(PI)\n"
   ]
  },
  {
   "cell_type": "code",
   "execution_count": null,
   "metadata": {
    "application/vnd.databricks.v1+cell": {
     "cellMetadata": {
      "byteLimit": 2048000,
      "rowLimit": 10000
     },
     "inputWidgets": {},
     "nuid": "e527c8cc-61b4-4483-a4ae-e029dabbe1dc",
     "showTitle": false,
     "title": ""
    }
   },
   "outputs": [
    {
     "name": "stdout",
     "output_type": "stream",
     "text": [
      "3.14102\n"
     ]
    }
   ],
   "source": [
    "import random # Esta librería viene de serie con python... y me da funciones para generar números aleatorios\n",
    "\n",
    "# PROGRAMACION FUNCIONAL / ALGORITMO MAP-REDUCE... sin SPARK de por medio\n",
    "# ESTO IMPLICA QUE SIEMPRE COMIENZO CON: una colección de datos\n",
    "NUMERO_DARDOS_TOTALES = 1000 * 1000\n",
    "numero_dardos_circulo = 0\n",
    "\n",
    "# Podría crear una lista (Dardo1, Dardo2, Dardo3... Dardo Tropecientos)\n",
    "\n",
    "def tirar_dardo(numero_de_dardo):\n",
    "    x = random.random() # Me da un aleatorio equiprobable entre 0 y 1\n",
    "    y = random.random() # Me da un aleatorio equiprobable entre 0 y 1\n",
    "    return (x,y)\n",
    "\n",
    "def calcular_distancia(coordenada): # Realmente es la distancia al cuadrado... como la comparo con 1... me da igual\n",
    "    return coordenada[0]*coordenada[0] + coordenada[1]*coordenada[1]\n",
    "\n",
    "def inferiores_a_uno(distancia):\n",
    "    return distancia <= 1\n",
    "\n",
    "coleccion_de_dardos      = range(0,NUMERO_DARDOS_TOTALES)\n",
    "coleccion_de_coordenadas = map(tirar_dardo, coleccion_de_dardos)\n",
    "coleccion_de_distancias  = map(calcular_distancia, coleccion_de_coordenadas)\n",
    "distancias_pequenas      = filter(inferiores_a_uno, coleccion_de_distancias)\n",
    "numero_dardos_circulo    = len(list(distancias_pequenas))\n",
    "\n",
    "# Calculo PI\n",
    "PI = 4 * numero_dardos_circulo / NUMERO_DARDOS_TOTALES\n",
    "print(PI)"
   ]
  },
  {
   "cell_type": "code",
   "execution_count": null,
   "metadata": {
    "application/vnd.databricks.v1+cell": {
     "cellMetadata": {
      "byteLimit": 2048000,
      "rowLimit": 10000
     },
     "inputWidgets": {},
     "nuid": "72334440-2e54-4b6b-a8ee-0ab7b54a9929",
     "showTitle": false,
     "title": ""
    }
   },
   "outputs": [
    {
     "name": "stdout",
     "output_type": "stream",
     "text": [
      "3.14164\n"
     ]
    }
   ],
   "source": [
    "import random # Esta librería viene de serie con python... y me da funciones para generar números aleatorios\n",
    "\n",
    "# PROGRAMACION FUNCIONAL / ALGORITMO MAP-REDUCE... sin SPARK de por medio... PERO CON LAMBDAS\n",
    "# ESTO IMPLICA QUE SIEMPRE COMIENZO CON: una colección de datos\n",
    "NUMERO_DARDOS_TOTALES = 1000 * 1000\n",
    "numero_dardos_circulo = 0\n",
    "\n",
    "# Podría crear una lista (Dardo1, Dardo2, Dardo3... Dardo Tropecientos)\n",
    "coleccion_de_dardos      = range(0,NUMERO_DARDOS_TOTALES)\n",
    "coleccion_de_coordenadas = map(    lambda numero_de_dardo : (random.random(), random.random())    , coleccion_de_dardos)\n",
    "coleccion_de_distancias  = map(    lambda coord: coord[0]*coord[0] + coord[1]*coord[1]            , coleccion_de_coordenadas)\n",
    "distancias_pequenas      = filter( lambda distancia: distancia <= 1                               , coleccion_de_distancias)\n",
    "numero_dardos_circulo    = len(    list(distancias_pequenas))\n",
    "\n",
    "# Calculo PI\n",
    "PI = 4 * numero_dardos_circulo / NUMERO_DARDOS_TOTALES\n",
    "print(PI)"
   ]
  },
  {
   "cell_type": "code",
   "execution_count": null,
   "metadata": {
    "application/vnd.databricks.v1+cell": {
     "cellMetadata": {
      "byteLimit": 2048000,
      "rowLimit": 10000
     },
     "inputWidgets": {},
     "nuid": "76b2b039-34c2-43f3-85e9-d76d8b006e88",
     "showTitle": false,
     "title": ""
    }
   },
   "outputs": [
    {
     "name": "stdout",
     "output_type": "stream",
     "text": [
      "3.140608\n"
     ]
    }
   ],
   "source": [
    "import random # Esta librería viene de serie con python... y me da funciones para generar números aleatorios\n",
    "\n",
    "# PROGRAMACION FUNCIONAL / ALGORITMO MAP-REDUCE... CON LAMBDAS Y SPARK DE POR MEDIO\n",
    "# ESTO IMPLICA QUE SIEMPRE COMIENZO CON: una colección de datos\n",
    "NUMERO_DARDOS_TOTALES = 1000 * 1000\n",
    "numero_dardos_circulo = 0\n",
    "\n",
    "# Spark, es pura programación MAP-REDUCE... Necesito una colección de datos de partida.\n",
    "# La tengo?\n",
    "coleccion_de_dardos      = range(0,NUMERO_DARDOS_TOTALES)\n",
    "# Pues esa, se la paso a Spark\n",
    "# Y aquí empieza la magia de DATABRICKS.\n",
    "# Si no estuviera trabajando con databricks, tendria que importar la librería de Spark (previamente la tendría que haber instalado)\n",
    "# Debería crear una conexión con un cluster de Spark... (para lo que necesitaría conocer la dirección IP del maestro del cluster)\n",
    "# DATABRICKS me evita todo eso. La variable sc (que tengo disponible dentro de cualquier cuaderno DATABRICKS) me ofrece una conexión a MI CLUSTER DE SPARK (el que tenga contratado en mi CLOUD DE TURNO: AZURE)\n",
    "\n",
    "#  coleccion_de_dardos_formato_spark = sc.parallelize(coleccion_de_dardos) # Esto nos devuelve un RDD\n",
    "\n",
    "# QUE ES UN RDD?????? RESILENT DISTRIBUTED DATASET\n",
    "# Es un tipo de datos, de colección (COMO UNA LISTA)... igual... que directamente soporta funciones map-reduce en un cluster de spark\n",
    " \n",
    "#coleccion_de_coordenadas_formato_spark = coleccion_de_dardos_formato_spark.map( lambda numero_de_dardo : (random.random(), random.random()) ) # Me devuelve otro RDD\n",
    "\n",
    "numero_dardos_circulo = sc.parallelize(coleccion_de_dardos)                                    \\\n",
    "                          .map( lambda numero_de_dardo : (random.random(), random.random())  ) \\\n",
    "                          .map( lambda coord: coord[0]*coord[0] + coord[1]*coord[1]          ) \\\n",
    "                          .filter( lambda distancia: distancia <= 1                          ) \\\n",
    "                          .count()                                                             \n",
    "\n",
    "# Calculo PI\n",
    "PI = 4 * numero_dardos_circulo / NUMERO_DARDOS_TOTALES\n",
    "print(PI)"
   ]
  },
  {
   "cell_type": "code",
   "execution_count": null,
   "metadata": {
    "application/vnd.databricks.v1+cell": {
     "cellMetadata": {
      "byteLimit": 2048000,
      "rowLimit": 10000
     },
     "inputWidgets": {},
     "nuid": "d13aef1c-a032-4b8a-b2e2-cd6c13b90447",
     "showTitle": false,
     "title": ""
    }
   },
   "outputs": [
    {
     "name": "stdout",
     "output_type": "stream",
     "text": [
      "3.14139536\n"
     ]
    }
   ],
   "source": [
    "import random\n",
    "\n",
    "NUMERO_DARDOS_TOTALES = 50 * 1000 * 1000\n",
    "numero_dardos_circulo = 0\n",
    "\n",
    "coleccion_de_dardos      = range(0,NUMERO_DARDOS_TOTALES)\n",
    "numero_dardos_circulo    = sc.parallelize(coleccion_de_dardos)                                 \\\n",
    "                          .map( lambda numero_de_dardo : (random.random(), random.random())  ) \\\n",
    "                          .map( lambda coord: coord[0]*coord[0] + coord[1]*coord[1]          ) \\\n",
    "                          .filter( lambda distancia: distancia <= 1                          ) \\\n",
    "                          .count()               \n",
    "\n",
    "PI = 4 * numero_dardos_circulo / NUMERO_DARDOS_TOTALES\n",
    "print(PI)"
   ]
  }
 ],
 "metadata": {
  "application/vnd.databricks.v1+notebook": {
   "dashboards": [],
   "environmentMetadata": null,
   "language": "python",
   "notebookMetadata": {
    "pythonIndentUnit": 4
   },
   "notebookName": "CalcularPi",
   "widgets": {}
  },
  "language_info": {
   "name": "python"
  }
 },
 "nbformat": 4,
 "nbformat_minor": 0
}
