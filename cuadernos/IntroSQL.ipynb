{
 "cells": [
  {
   "cell_type": "code",
   "execution_count": 0,
   "metadata": {
    "application/vnd.databricks.v1+cell": {
     "cellMetadata": {
      "byteLimit": 2048000,
      "rowLimit": 10000
     },
     "inputWidgets": {},
     "nuid": "fdeef44c-191e-4bbf-94ca-5b863c12e58e",
     "showTitle": false,
     "title": ""
    }
   },
   "outputs": [],
   "source": [
    "\n",
    "import re\n",
    "\n",
    "letras_posibles=\"TRWAGMYFPDXBNJZSQVHLCKE\"\n",
    "\n",
    "class DNI:\n",
    "\n",
    "    def __init__(self, dni_como_texto):\n",
    "        self.dni_como_texto = self.pretratamiento_de_dni(dni_como_texto)\n",
    "\n",
    "        self.confianza = 0\n",
    "        (valido, numero, letra) = self.validar_dni(self.dni_como_texto)\n",
    "        if(valido):\n",
    "            self.confianza = 1\n",
    "        else:\n",
    "            (valido, numero, letra) = self.tratar_de_arreglar_el_dni()\n",
    "            if(valido):\n",
    "                self.confianza = 0.5\n",
    "        self.valido = valido\n",
    "        self.letra = letra\n",
    "        self.numero = numero\n",
    "\n",
    "    def letra_correspondiente(self,numero_dni):\n",
    "        return letras_posibles[numero_dni % 23]\n",
    "\n",
    "    def validar_dni(self, dni_como_texto):\n",
    "        \"\"\"                             VALIDACION                    -->   FORMATEO\n",
    "        Me llegará algo como:       NUMERO          LETRA     VALIDO\n",
    "            12345678T           ->  12345678        T           √           --> 12345678-T | 12345678T | 12345678 T | 12.345.678-T\n",
    "            12345.678-T             12345678        T           x\n",
    "            12.345.678 T            12345678        T           √\n",
    "            00001234T               1234            T           x\n",
    "            1234t                   1234            T           x\n",
    "        \"\"\"\n",
    "        numero = None\n",
    "        letra = None\n",
    "        # Aplico una expresion regular\n",
    "        valido = re.match(r'^[0-9]{1,8}[ -]?[a-zA-Z]$', dni_como_texto)\n",
    "        if(valido):\n",
    "            valido = True\n",
    "            # Extraer la letra \n",
    "            letra = self.dni_como_texto[-1].upper()\n",
    "            # Extraer el número\n",
    "            dni_como_texto = dni_como_texto.replace(\". -\",\"\") # Me como los espacios, puntos y guiones\n",
    "            numero = int(dni_como_texto[:-1])\n",
    "            # Validar la letra\n",
    "            if self.letra_correspondiente(numero) != letra:\n",
    "                valido = False\n",
    "        else:\n",
    "            valido = False\n",
    "        return (valido, numero, letra)\n",
    "\n",
    "    def tratar_de_arreglar_el_dni(self):\n",
    "        \"\"\"\n",
    "            Si me vienen puntos en mal sitio, lo ignoro...                          [^a-zA-Z0-9]\n",
    "            Si me viene algun caracter que no sea letras o numeros... los ignoro\n",
    "        \"\"\"\n",
    "        dni_como_texto = re.sub(r'[^a-zA-Z0-9]','',self.dni_como_texto)\n",
    "        print(dni_como_texto)\n",
    "        return self.validar_dni(dni_como_texto)\n",
    "\n",
    "    def pretratamiento_de_dni(self,dni_como_texto):\n",
    "        return dni_como_texto.strip()"
   ]
  },
  {
   "cell_type": "code",
   "execution_count": 0,
   "metadata": {
    "application/vnd.databricks.v1+cell": {
     "cellMetadata": {
      "byteLimit": 2048000,
      "rowLimit": 10000
     },
     "inputWidgets": {},
     "nuid": "4493c3cb-552d-42c7-99ed-24178cf4f88f",
     "showTitle": false,
     "title": ""
    }
   },
   "outputs": [
    {
     "output_type": "stream",
     "name": "stdout",
     "output_type": "stream",
     "text": [
      "230000T\nTrue 0.5 T 230000 230.0.00$T\n"
     ]
    }
   ],
   "source": [
    "dni_como_texto = \"\"\" 230.0.00$T\n",
    "\"\"\"\n",
    "\n",
    "dni = DNI(dni_como_texto)\n",
    "# Acabao!\n",
    "# Si tengo confianza al menos 0.5, lo formateo como me interese para los cruces con otra BBDD\n",
    "#if(confianza >= 0.5):\n",
    "#    dni_formatado_para_cruces = formatear_dni(letra, numero, puntos= False, separado_letra = '', rellenar_con_ceros = True)\n",
    "print(dni.valido, dni.confianza, dni.letra, dni.numero, dni.dni_como_texto)\n",
    "\n"
   ]
  },
  {
   "cell_type": "code",
   "execution_count": 0,
   "metadata": {
    "application/vnd.databricks.v1+cell": {
     "cellMetadata": {},
     "inputWidgets": {},
     "nuid": "0082d36b-b5f1-4810-91f4-5463ef747546",
     "showTitle": false,
     "title": ""
    }
   },
   "outputs": [],
   "source": [
    "\n",
    "import re\n",
    "\n",
    "letras_posibles=\"TRWAGMYFPDXBNJZSQVHLCKE\"\n",
    "\n",
    "class DNI:\n",
    "\n",
    "    def __init__(self, dni_como_texto):\n",
    "        self.dni_como_texto = self.pretratamiento_de_dni(dni_como_texto)\n",
    "\n",
    "        self.confianza = 0\n",
    "        (valido, numero, letra) = self.validar_dni(self.dni_como_texto)\n",
    "        if(valido):\n",
    "            self.confianza = 1\n",
    "        else:\n",
    "            (valido, numero, letra) = self.tratar_de_arreglar_el_dni()\n",
    "            if(valido):\n",
    "                self.confianza = 0.5\n",
    "        self.valido = valido\n",
    "        self.letra = letra\n",
    "        self.numero = numero\n",
    "\n",
    "    def letra_correspondiente(self,numero_dni):\n",
    "        return letras_posibles[numero_dni % 23]\n",
    "\n",
    "    def validar_dni(self, dni_como_texto):\n",
    "        numero = None\n",
    "        letra = None\n",
    "        valido = re.match(r'^[0-9]{1,8}[ -]?[a-zA-Z]$', dni_como_texto)\n",
    "        if(valido):\n",
    "            valido = True\n",
    "            letra = self.dni_como_texto[-1].upper()\n",
    "            dni_como_texto = dni_como_texto.replace(\". -\",\"\") # Me como los espacios, puntos y guiones\n",
    "            numero = int(dni_como_texto[:-1])\n",
    "            if self.letra_correspondiente(numero) != letra:\n",
    "                valido = False\n",
    "        else:\n",
    "            valido = False\n",
    "        return (valido, numero, letra)\n",
    "\n",
    "    def tratar_de_arreglar_el_dni(self):\n",
    "        dni_como_texto = re.sub(r'[^a-zA-Z0-9]','',self.dni_como_texto)\n",
    "        print(dni_como_texto)\n",
    "        return self.validar_dni(dni_como_texto)\n",
    "\n",
    "    def pretratamiento_de_dni(self,dni_como_texto):\n",
    "        return dni_como_texto.strip()"
   ]
  },
  {
   "cell_type": "code",
   "execution_count": 0,
   "metadata": {
    "application/vnd.databricks.v1+cell": {
     "cellMetadata": {
      "byteLimit": 2048000,
      "rowLimit": 10000
     },
     "inputWidgets": {},
     "nuid": "e19b16c0-3424-4c18-adcd-58e16fe104be",
     "showTitle": false,
     "title": ""
    }
   },
   "outputs": [
    {
     "output_type": "stream",
     "name": "stdout",
     "output_type": "stream",
     "text": [
      "Wrote 448 bytes.\n"
     ]
    },
    {
     "output_type": "execute_result",
     "data": {
      "text/plain": [
       "True"
      ]
     },
     "execution_count": 35,
     "metadata": {},
     "output_type": "execute_result"
    }
   ],
   "source": [
    "ruta_archivo = \"/tmp/personas.json\"\n",
    "\n",
    "dbutils.fs.put(ruta_archivo, \"\"\"\n",
    "{\"nombre\":\"Juan\",\"apellidos\":\"García\",\"edad\":25, \"dni\": \"23000000T\", \"cp\": \"28001\", \"email\": \"juan@garcia.es\"}\n",
    "{\"nombre\":\"Juan\",\"apellidos\":\"Ruiz\",\"edad\":17, \"dni\": \"23000023T\", \"cp\": \"28006\", \"email\": \"juan@ruiz.es\"}\n",
    "{\"nombre\":\"María\",\"apellidos\":\"García\",\"edad\":43, \"dni\": \"23000046T\", \"cp\": \"28006\", \"email\": \"maria@garcia.com\"}\n",
    "{\"nombre\":\"Menchu\",\"apellidos\":\"Ruiz\",\"edad\":33, \"dni\": \"23000002T\", \"cp\": \"28002\", \"email\": \"menchu@ruiz.net\"}\n",
    "\"\"\", True)\n"
   ]
  },
  {
   "cell_type": "code",
   "execution_count": 0,
   "metadata": {
    "application/vnd.databricks.v1+cell": {
     "cellMetadata": {
      "byteLimit": 2048000,
      "rowLimit": 10000
     },
     "inputWidgets": {},
     "nuid": "574879dc-95bb-4d89-868d-7dc199341e66",
     "showTitle": false,
     "title": ""
    }
   },
   "outputs": [
    {
     "output_type": "execute_result",
     "data": {
      "text/plain": [
       "DataFrame[apellidos: string, cp: string, dni: string, edad: bigint, email: string, nombre: string]"
      ]
     },
     "execution_count": 46,
     "metadata": {},
     "output_type": "execute_result"
    }
   ],
   "source": [
    "# Quiero que spark lea ese fichero.\n",
    "# Quien me hace eso guay es la librería spark-sql\n",
    "\n",
    "# Para trabajar con esta librería no usamos la palabra/variable \"sc\"\n",
    "# La variable \"sc\" me da una conexión con un cluster de spark para trabajar con la libraria spark-core\n",
    "# En este caso, para forzar el trabajo con la libreria spark-sql, usamos la variable \"spark\"\n",
    "\n",
    "datos = spark.read.json(ruta_archivo)\n",
    "datos # Básicamente lo que muestra es el ESQUEMA que tiene asociado ese conjunto de datos.\n",
    "            # El esquema define los campos de cada fila del DataFrame y sus tipos de datos (también si son nulables)\n",
    "            # Es el mismo concepto que el esquema de una tabla de una BBDD\n",
    "            # El esquema se me ha generado en automático... desde los datos... NORMALMENTE esto me vale...\n"
   ]
  },
  {
   "cell_type": "code",
   "execution_count": 0,
   "metadata": {
    "application/vnd.databricks.v1+cell": {
     "cellMetadata": {
      "byteLimit": 2048000,
      "rowLimit": 10000
     },
     "inputWidgets": {},
     "nuid": "551d8902-1696-495a-a4af-731711a1e091",
     "showTitle": false,
     "title": ""
    }
   },
   "outputs": [
    {
     "output_type": "stream",
     "name": "stdout",
     "output_type": "stream",
     "text": [
      "root\n |-- apellidos: string (nullable = true)\n |-- cp: string (nullable = true)\n |-- dni: string (nullable = true)\n |-- edad: long (nullable = true)\n |-- email: string (nullable = true)\n |-- nombre: string (nullable = true)\n\n"
     ]
    }
   ],
   "source": [
    "datos.printSchema()\n",
    "\n",
    "# miDataframe.schema[0].nullable = False EDITAR EL ESQUEMA"
   ]
  },
  {
   "cell_type": "code",
   "execution_count": 0,
   "metadata": {
    "application/vnd.databricks.v1+cell": {
     "cellMetadata": {
      "byteLimit": 2048000,
      "rowLimit": 10000
     },
     "inputWidgets": {},
     "nuid": "72c0c2ba-bd8b-4c7b-a57e-fa14fa4a314f",
     "showTitle": false,
     "title": ""
    }
   },
   "outputs": [
    {
     "output_type": "stream",
     "name": "stdout",
     "output_type": "stream",
     "text": [
      "+---------+-----+---------+----+----------------+------+\n|apellidos|   cp|      dni|edad|           email|nombre|\n+---------+-----+---------+----+----------------+------+\n|   García|28001|23000000T|  25|  juan@garcia.es|  Juan|\n|     Ruiz|28006|23000023T|  17|    juan@ruiz.es|  Juan|\n|   García|28006|23000046T|  43|maria@garcia.com| María|\n|     Ruiz|28002|23000002T|  33| menchu@ruiz.net|Menchu|\n+---------+-----+---------+----+----------------+------+\n\n"
     ]
    }
   ],
   "source": [
    "datos.show()"
   ]
  },
  {
   "cell_type": "code",
   "execution_count": 0,
   "metadata": {
    "application/vnd.databricks.v1+cell": {
     "cellMetadata": {
      "byteLimit": 2048000,
      "rowLimit": 10000
     },
     "inputWidgets": {},
     "nuid": "07f5ff2b-495f-43fe-bf84-388f26c1f0b4",
     "showTitle": false,
     "title": ""
    }
   },
   "outputs": [
    {
     "output_type": "stream",
     "name": "stdout",
     "output_type": "stream",
     "text": [
      "+------+---------+\n|nombre|apellidos|\n+------+---------+\n|  Juan|   García|\n|  Juan|     Ruiz|\n| María|   García|\n|Menchu|     Ruiz|\n+------+---------+\n\n"
     ]
    }
   ],
   "source": [
    "datos.select(\"nombre\", \"apellidos\").show() # SELECT nombre, apellidos FROM datos"
   ]
  },
  {
   "cell_type": "code",
   "execution_count": 0,
   "metadata": {
    "application/vnd.databricks.v1+cell": {
     "cellMetadata": {
      "byteLimit": 2048000,
      "rowLimit": 10000
     },
     "inputWidgets": {},
     "nuid": "bcaba4cb-d962-4594-a5c6-25fc7bf05752",
     "showTitle": false,
     "title": ""
    }
   },
   "outputs": [
    {
     "output_type": "stream",
     "name": "stdout",
     "output_type": "stream",
     "text": [
      "+------+---------+\n|nombre|apellidos|\n+------+---------+\n|  Juan|   García|\n|  Juan|     Ruiz|\n| María|   García|\n|Menchu|     Ruiz|\n+------+---------+\n\n"
     ]
    }
   ],
   "source": [
    "from pyspark.sql.functions import col\n",
    "# En estas funciones, podemos pasar dentro de los parentesis:\n",
    "# - Nombres de las columas\n",
    "# - Pasar objetos de tipo COLUMNA, que son un tipo de objetos que tiene spark sql\n",
    "\n",
    "datos.select( col(\"nombre\"), col(\"apellidos\")).show() # SELECT nombre, apellidos FROM datos"
   ]
  },
  {
   "cell_type": "code",
   "execution_count": 0,
   "metadata": {
    "application/vnd.databricks.v1+cell": {
     "cellMetadata": {
      "byteLimit": 2048000,
      "rowLimit": 10000
     },
     "inputWidgets": {},
     "nuid": "10512a89-1951-427e-b517-1c0b86411c9e",
     "showTitle": false,
     "title": ""
    }
   },
   "outputs": [
    {
     "output_type": "stream",
     "name": "stdout",
     "output_type": "stream",
     "text": [
      "+------+---------+------------+\n|nombre|apellidos|(edad >= 18)|\n+------+---------+------------+\n|  Juan|   García|        true|\n|  Juan|     Ruiz|       false|\n| María|   García|        true|\n|Menchu|     Ruiz|        true|\n+------+---------+------------+\n\n"
     ]
    }
   ],
   "source": [
    "# Las columas de spark ofrecen funciones adicionales\n",
    "datos.select( col(\"nombre\"), col(\"apellidos\"), col(\"edad\") >=18 ).show() # SELECT nombre, apellidos FROM datos\n",
    "\n",
    "# Esas 2 sintaxis no se pueden MEZCLAR !!!!"
   ]
  },
  {
   "cell_type": "code",
   "execution_count": 0,
   "metadata": {
    "application/vnd.databricks.v1+cell": {
     "cellMetadata": {
      "byteLimit": 2048000,
      "rowLimit": 10000
     },
     "inputWidgets": {},
     "nuid": "3879abf1-e321-4d92-9b6e-5c60f4cdb345",
     "showTitle": false,
     "title": ""
    }
   },
   "outputs": [
    {
     "output_type": "stream",
     "name": "stdout",
     "output_type": "stream",
     "text": [
      "+---------+-----+---------+----+----------------+------+\n|apellidos|   cp|      dni|edad|           email|nombre|\n+---------+-----+---------+----+----------------+------+\n|     Ruiz|28006|23000023T|  17|    juan@ruiz.es|  Juan|\n|   García|28001|23000000T|  25|  juan@garcia.es|  Juan|\n|     Ruiz|28002|23000002T|  33| menchu@ruiz.net|Menchu|\n|   García|28006|23000046T|  43|maria@garcia.com| María|\n+---------+-----+---------+----+----------------+------+\n\n"
     ]
    }
   ],
   "source": [
    "# Igual que la función select, tengo muchas otras... similares a las de SQL\n",
    "datos.orderBy(\"edad\").show()"
   ]
  },
  {
   "cell_type": "code",
   "execution_count": 0,
   "metadata": {
    "application/vnd.databricks.v1+cell": {
     "cellMetadata": {
      "byteLimit": 2048000,
      "rowLimit": 10000
     },
     "inputWidgets": {},
     "nuid": "6405b80c-bbe2-4977-82f6-8f5802f4c0b5",
     "showTitle": false,
     "title": ""
    }
   },
   "outputs": [
    {
     "output_type": "stream",
     "name": "stdout",
     "output_type": "stream",
     "text": [
      "+---------+-----+---------+----+----------------+------+\n|apellidos|   cp|      dni|edad|           email|nombre|\n+---------+-----+---------+----+----------------+------+\n|   García|28006|23000046T|  43|maria@garcia.com| María|\n|     Ruiz|28002|23000002T|  33| menchu@ruiz.net|Menchu|\n|   García|28001|23000000T|  25|  juan@garcia.es|  Juan|\n|     Ruiz|28006|23000023T|  17|    juan@ruiz.es|  Juan|\n+---------+-----+---------+----+----------------+------+\n\n"
     ]
    }
   ],
   "source": [
    "datos.orderBy(col(\"edad\").desc()).show()"
   ]
  },
  {
   "cell_type": "code",
   "execution_count": 0,
   "metadata": {
    "application/vnd.databricks.v1+cell": {
     "cellMetadata": {
      "byteLimit": 2048000,
      "rowLimit": 10000
     },
     "inputWidgets": {},
     "nuid": "17c18de2-a930-4995-8a5f-3ef99ac8096c",
     "showTitle": false,
     "title": ""
    }
   },
   "outputs": [
    {
     "output_type": "stream",
     "name": "stdout",
     "output_type": "stream",
     "text": [
      "+------+---------+\n|nombre|sum(edad)|\n+------+---------+\n|  Juan|       25|\n|Menchu|       33|\n| María|       43|\n+------+---------+\n\n"
     ]
    }
   ],
   "source": [
    "datos.select(\"nombre\",\"edad\") \\\n",
    "     .filter(col(\"edad\")>=18) \\\n",
    "     .groupBy(\"nombre\") \\\n",
    "     .sum(\"edad\") \\\n",
    "     .orderBy(\"sum(edad)\") \\\n",
    "     .show()\n",
    "    # Intermnamente, la libreria spark sql transforma todas estas operaciones en operaciones MAP-REDUCE de la libreria core"
   ]
  },
  {
   "cell_type": "code",
   "execution_count": 0,
   "metadata": {
    "application/vnd.databricks.v1+cell": {
     "cellMetadata": {
      "byteLimit": 2048000,
      "rowLimit": 10000
     },
     "inputWidgets": {},
     "nuid": "242f9918-437e-47f5-a236-87d7d98f9369",
     "showTitle": false,
     "title": ""
    }
   },
   "outputs": [
    {
     "output_type": "stream",
     "name": "stdout",
     "output_type": "stream",
     "text": [
      "+------+---------+\n|nombre|sum(edad)|\n+------+---------+\n| María|       43|\n|Menchu|       33|\n|  Juan|       25|\n+------+---------+\n\n"
     ]
    }
   ],
   "source": [
    "datos.createOrReplaceTempView(\"personas\")\n",
    "otro_dataframe=spark.sql(\"SELECT nombre, sum(edad) FROM personas WHERE edad >= 18 GROUP BY nombre ORDER BY sum(edad) DESC\")\n",
    "otro_dataframe.show()"
   ]
  }
 ],
 "metadata": {
  "application/vnd.databricks.v1+notebook": {
   "dashboards": [],
   "environmentMetadata": null,
   "language": "python",
   "notebookMetadata": {
    "pythonIndentUnit": 4
   },
   "notebookName": "IntroSQL",
   "widgets": {}
  }
 },
 "nbformat": 4,
 "nbformat_minor": 0
}
